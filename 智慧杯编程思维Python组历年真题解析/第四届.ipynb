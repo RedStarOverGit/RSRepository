{
 "cells": [
  {
   "cell_type": "code",
   "execution_count": null,
   "metadata": {
    "tags": []
   },
   "outputs": [],
   "source": [
    "\"\"\"题目：谁中奖了\n",
    "小图灵晚会举办了一个抽奖活动，每个人抽取一个号码，号码范围为1~20。\n",
    "如果这个号码既能被3整除又能被5整除，获得一等奖；如果这个号码能被6整\n",
    "除，获得二等奖；其他号码获得三等奖。\n",
    "\n",
    "请你编写一个程序，输入一个1~20范围内的整数，判断这个整数所满足的条件，\n",
    "输出对应的奖项，其中一等奖输出frist prize，二等奖输出second prize，\n",
    "三等奖输出third prize。\n",
    "输入样例：12    输出样例：second prize\"\"\"\n",
    "n = int(input())  # 输入一个整数\n",
    "# 根据条件判断并输出\n",
    "if n % 3 == n % 5 == 0:\n",
    "    print('frist prize')\n",
    "elif n % 6 == 0:\n",
    "    print('second prize')\n",
    "else:\n",
    "    print('third prize')\n"
   ]
  },
  {
   "cell_type": "code",
   "execution_count": null,
   "metadata": {},
   "outputs": [],
   "source": [
    "\"\"\"题目：交换人生\n",
    "大黄，小黄和喜宝看完一部科幻电影后，也幻想能够和对方交换人生，体验对\n",
    "方的生活。虽然现实中还不能实现，但是我们可以通过编程来完成自己的遐想。\n",
    "请你编写一个程序，帮助他们实现愿望，交换各自的年龄。\n",
    "\n",
    "分三行输入三个数字，分别赋值给变量a、b、c，然后交换三个变量的值，要求\n",
    "交换后变量a中保存为变量b的值；分三行输出交换后a、b、c中保存的值。\n",
    "输入样例：13    输出样例：24\n",
    "         24            35\n",
    "         35            13\"\"\"\n",
    "a, b, c = [int(input()) for i in range(3)]  # 输入三个数\n",
    "# 交换变量并输出\n",
    "a, b, c = b, c, a\n",
    "print(a, b, c, sep='\\n')\n"
   ]
  },
  {
   "cell_type": "code",
   "execution_count": null,
   "metadata": {},
   "outputs": [],
   "source": [
    "\"\"\"题目：数字守护天使\n",
    "班会课上正在开展游戏，班上总共有20名学生，鼓声开始时，排成一排从左\n",
    "至右开始传递魔法棒，编号1同学说一个自己想守护的数字作为初始值，以后\n",
    "每位同学守护说的数字都一次递增，编号2在编号1基础上递增1，编号3在编\n",
    "号2基础上递增2，编号4在编号3基础上递增3…依此类推。当鼓声停止时，拿\n",
    "到魔法棒的同学要立马爆出自己所守护的数字。\n",
    "\n",
    "为了快速计算自己所守护的数字，请你编写一个程序，要求自定义一个函数，\n",
    "包含两个参数，一个参数a表示初始值，第二个参数n表示同学的编号，函数\n",
    "能够返回编号n同学所守护的数字。输入初始值和编号，调用函数输出编号n\n",
    "同学守护的数字。\n",
    "输入样例：2    输出样例：8\n",
    "         4\"\"\"\n",
    "# 定义\n",
    "def find(a, n):\n",
    "    s = a  # 定义变量`s`，存放要守护的数字，即和\n",
    "    for i in range(1, n):  # 循环自增\n",
    "        s += i\n",
    "    return s\n",
    "\n",
    "\n",
    "# 输入初始数字和编号\n",
    "a1 = int(input())\n",
    "n1 = int(input())\n",
    "print(find(a1, n1))  # 调用函数\n"
   ]
  },
  {
   "cell_type": "code",
   "execution_count": null,
   "metadata": {},
   "outputs": [],
   "source": [
    "\"\"\"题目：相同的卡片\n",
    "小图和小灵在收集某个动画里的角色卡片，不重复收集。由于动画里的角色很多，\n",
    "他们在一定的时间里无法收集齐所有的卡片。一天，小灵和小图想比较一下他们\n",
    "的卡片有多少是相同的，当他们一个一个比较的时候，发现很费时间，并且容易\n",
    "弄错。\n",
    "\n",
    "请你编写一个程序，帮助他们解决这个问题，假如这些角色都用字符表示，区分\n",
    "大小写，例如A和a是两个不同的卡片。输入两行，第一行是小灵的角色卡片，第\n",
    "二行是小图的角色卡片；输出一行，小灵和小图相同的角色卡片，按照小灵卡片\n",
    "顺序输出，空格分隔，如果没有相同角色卡片，则输出：-1\n",
    "输入样例：a b c d e    输出样例：a c b\n",
    "         b c a m h\"\"\"\n",
    "# 分别输入小灵和小图的卡片，并存在列表中\n",
    "c1 = input().split()\n",
    "c2 = input().split()\n",
    "# 定义变量`same`，用于统计小灵和小图的卡片相同的数量\n",
    "same = 0\n",
    "# 使用双重`for`循环，外层遍历小灵的卡片列表，内层遍历小图的卡片列表\n",
    "for i in c1:\n",
    "    for j in c2:\n",
    "        if i == j:  # 若元素相等\n",
    "            same += 1  # `same`变量自增1\n",
    "            print(i, end=' ')  # 输出相同的卡片，使用空格分隔\n",
    "if same == 0:  # 若`same`变量值为0\n",
    "    print(-1)  # 输出-1\n",
    "    "
   ]
  },
  {
   "cell_type": "code",
   "execution_count": null,
   "metadata": {},
   "outputs": [],
   "source": [
    "\"\"\"题目：质数的个数\n",
    "质数又称素数。一个大于1的自然数，除了1和它自身外，不能被其他自然数整除\n",
    "的数叫做质数；否则成为合数（规定1既不是质数也不是合数）\n",
    "\n",
    "现在，要求输入一行自然数序列（其他类型的数据不做考察），1除外，这些自然\n",
    "数之间空格分隔，要求输出这组自然数中质数的个数。\n",
    "输入样例：12 3 45 5    输出样例：2\"\"\"\n",
    "# 使用列表生成式输入一行自然数序列，并将它们转换为整型\n",
    "nums = [int(i) for i in input().split()]\n",
    "n = 0  # 定义变量`n`，用于存储质数个数\n",
    "for i in nums:  # 双重`for`循环寻找质数\n",
    "    d = 0  # 定义变量`d`，用于存储每个整数的因数数量\n",
    "    for j in range(1, i+1):\n",
    "        if i % j == 0:\n",
    "            d += 1\n",
    "    if d == 2:  # 若`d`的值为2，则视为这个数为素数\n",
    "        n += 1\n",
    "print(n)\n"
   ]
  }
 ],
 "metadata": {
  "kernelspec": {
   "display_name": "Python 3",
   "language": "python",
   "name": "python3"
  },
  "language_info": {
   "codemirror_mode": {
    "name": "ipython",
    "version": 3
   },
   "file_extension": ".py",
   "mimetype": "text/x-python",
   "name": "python",
   "nbconvert_exporter": "python",
   "pygments_lexer": "ipython3",
   "version": "3.11.4"
  },
  "orig_nbformat": 4
 },
 "nbformat": 4,
 "nbformat_minor": 2
}

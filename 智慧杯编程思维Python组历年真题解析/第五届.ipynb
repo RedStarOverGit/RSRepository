{
 "cells": [
  {
   "cell_type": "code",
   "execution_count": null,
   "metadata": {},
   "outputs": [],
   "source": [
    "\"\"\"题目：银行汇率换算系统\n",
    "小图计划在暑期去新加坡(Singapore)、泰国(Thailand)、马来西亚(Malaysia)的其中一个\n",
    "国家游玩，出国前他要将人民币兑换成外国货币。\n",
    "他有一笔旅游经费（人民币），现在他想知道这笔经费可以兑换成多少外国货币。\n",
    "请你编写程序，帮助小图计算前往对应国家的旅游经费（以当地货币为单位）。\n",
    "要求：小图输入旅游经费的总额（人民币），以及前往国家的英文名称后，计算并输出在该国的\n",
    "旅游经费（以当地货币为单位）。\n",
    "如果输入内容正确，输出对应的金额；否则输出\"error\"。\n",
    "人民币兑换列表             例如\n",
    "1人民币=0.21新加坡元       输入：10000.0\n",
    "1人民币=4.90泰铢                 Singapore\n",
    "1人民币=0.65马来西亚吉特   输出：2100.0\"\"\"\n",
    "# 分别输入金额和国家\n",
    "money = float(input())\n",
    "country = input()\n",
    "# 根据条件判断并计算\n",
    "if country == 'Singapore':\n",
    "    print(money*0.21)\n",
    "elif country == 'Thailand':\n",
    "    print(money*4.9)\n",
    "elif country == 'Malaysia':\n",
    "    print(money*0.65)\n",
    "else:\n",
    "    print('error')\n"
   ]
  },
  {
   "cell_type": "code",
   "execution_count": null,
   "metadata": {},
   "outputs": [],
   "source": [
    "\"\"\"题目：数字卡片游戏\n",
    "小图和小灵在玩数字卡片游戏，每人手中都有9张卡片，内容为1~9。\n",
    "现在他们每人拿出一张卡片，两人卡片的数字必须互不相同，他们想知道这两张卡片组成的\n",
    "两位数之和。例如，小图的卡片数字为5，小灵的卡片数字为3，则可以组成53和35，求得这\n",
    "两个两位数得和为88。请编写程序帮他们得出计算结果。\n",
    "例如\n",
    "输入：5 输出：88\n",
    "      3\"\"\"\n",
    "# 分别输入两个数\n",
    "c1 = int(input())\n",
    "c2 = int(input())\n",
    "if c1 != c2:  # 判断两数是否相等\n",
    "    # 得到两数组成的两位数并输出它们的和\n",
    "    n1 = c1 * 10 + c2\n",
    "    n2 = c2 * 10 + c1\n",
    "    print(n1+n2)\n"
   ]
  },
  {
   "cell_type": "code",
   "execution_count": null,
   "metadata": {},
   "outputs": [],
   "source": [
    "\"\"\"题目：比比绕口令\n",
    "小图和小灵在玩英文绕口令，现在小图随机说出一句英文，让小灵猜这句话中的\n",
    "某个字母（区分大小写）出现的次数。请你帮助他们编写程序来计算\n",
    "例如\n",
    "输入：I saw Susie sitting in shueshine shop.    输出：6\n",
    "      s\"\"\"\n",
    "# 分别输入句子和字母，并使用字符串的`count()`方法，输出这个字母出现的次数\n",
    "print(input().count(input()))\n"
   ]
  },
  {
   "cell_type": "code",
   "execution_count": null,
   "metadata": {},
   "outputs": [],
   "source": [
    "\"\"\"题目：密室大逃脱\n",
    "小图和朋友去玩密室逃脱，在解密过程中，其中一个门的密码为三位数。同时他们在房间里得\n",
    "到了一个信息：这个三位数是一个水仙花数。\n",
    "所谓“水仙花数”是指一个三位数，其各位数字的立方和等于这个数本身。例如：153是一个“水\n",
    "仙花数”，因为153=1的三次方+5的三次方+3的三次方。\n",
    "输入一个三位数，请帮小图和朋友算出100到这个数之间的水仙花数有哪些？（用空格分隔）\n",
    "小提示：可以用`int()`函数取整来求百位数\n",
    "例如\n",
    "输入：500   输出：153 370 371 407\"\"\"\n",
    "n = int(input())  # 输入一个三位数\n",
    "for i in range(100, n+1):  # 使用循环判断从100到本数之间的数\n",
    "    # 依次获取个、十、百位上的数数\n",
    "    a = i//100\n",
    "    b = (i//10)%10\n",
    "    c = i%10\n",
    "    if a**3+b**3+c**3 == i:  # 使用条件判断水仙花数\n",
    "        print(i, end=' ')  # 输出找到的水仙花数\n"
   ]
  },
  {
   "cell_type": "code",
   "execution_count": null,
   "metadata": {},
   "outputs": [],
   "source": [
    "\"\"\"题目：素数知多少\n",
    "小图今天在学习了素数的知识。素数指一个大于1的自然数，除了1和它自身外，不能被其他自\n",
    "然数整除的数。\n",
    "现在他想在一行输入20个数字，逗号分隔，判断这些数字里有多少个素数。\n",
    "请编写程序，计算输入的20个数字中有多少个素数并输出\n",
    "例如\n",
    "输入：2,3,4,5,6,7,8,9,10,11,12,13,14,15,16,17,18,19,20,21   输出：8\"\"\"\n",
    "# 使用列表生成式输入20个数字，并将它们转换为整型\n",
    "nums = [int(i) for i in input().split(',')]\n",
    "count = 0  # 定义`count`变量，用于记录素数的个数\n",
    "for i in nums:  # 遍历列表\n",
    "    d = 0  # 定义变量`d`，用于统计每个数的因数数量\n",
    "    for j in range(1, i+1):\n",
    "        if i % j == 0:  # 根据i的因数定义，筛选出i的所有因数\n",
    "            d += 1\n",
    "    if d == 2:  # 通过条件判断是否是素数\n",
    "        count += 1\n",
    "print(count)\n"
   ]
  }
 ],
 "metadata": {
  "kernelspec": {
   "display_name": "Python 3",
   "language": "python",
   "name": "python3"
  },
  "language_info": {
   "codemirror_mode": {
    "name": "ipython",
    "version": 3
   },
   "file_extension": ".py",
   "mimetype": "text/x-python",
   "name": "python",
   "nbconvert_exporter": "python",
   "pygments_lexer": "ipython3",
   "version": "3.11.4"
  },
  "orig_nbformat": 4
 },
 "nbformat": 4,
 "nbformat_minor": 2
}
